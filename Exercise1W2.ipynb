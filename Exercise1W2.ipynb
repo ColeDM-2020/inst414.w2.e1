{
 "cells": [
  {
   "cell_type": "code",
   "execution_count": 7,
   "id": "d2575375",
   "metadata": {},
   "outputs": [
    {
     "name": "stdout",
     "output_type": "stream",
     "text": [
      "6.816666666666665\n"
     ]
    }
   ],
   "source": [
    "import json\n",
    "\n",
    "actor = 'Hugh Jackman'\n",
    "rate = []\n",
    "with open('C:/Users/Cole/OneDrive/Desktop/INST-414/imdb_movies_1985to2022.json', 'r') as f: # reads the file that was input\n",
    "    \n",
    "    for lines in f:\n",
    "        movies = json.loads(lines)\n",
    "        \n",
    "        for people in movies['actors']:\n",
    "            if people[1] == actor:\n",
    "                rate.append(movies['rating']['avg'])\n",
    "          \n",
    "    average_rating = (sum(rate) / len(rate))\n",
    "    print(average_rating)"
   ]
  },
  {
   "cell_type": "code",
   "execution_count": null,
   "id": "f1984072",
   "metadata": {},
   "outputs": [],
   "source": []
  },
  {
   "cell_type": "code",
   "execution_count": null,
   "id": "d0cb576c",
   "metadata": {},
   "outputs": [],
   "source": []
  }
 ],
 "metadata": {
  "kernelspec": {
   "display_name": "Python 3 (ipykernel)",
   "language": "python",
   "name": "python3"
  },
  "language_info": {
   "codemirror_mode": {
    "name": "ipython",
    "version": 3
   },
   "file_extension": ".py",
   "mimetype": "text/x-python",
   "name": "python",
   "nbconvert_exporter": "python",
   "pygments_lexer": "ipython3",
   "version": "3.10.2"
  }
 },
 "nbformat": 4,
 "nbformat_minor": 5
}
