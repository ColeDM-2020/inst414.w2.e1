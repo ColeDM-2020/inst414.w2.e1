{
 "cells": [
  {
   "cell_type": "code",
   "execution_count": 2,
   "id": "d2575375",
   "metadata": {},
   "outputs": [
    {
     "ename": "ZeroDivisionError",
     "evalue": "division by zero",
     "output_type": "error",
     "traceback": [
      "\u001b[1;31m---------------------------------------------------------------------------\u001b[0m",
      "\u001b[1;31mZeroDivisionError\u001b[0m                         Traceback (most recent call last)",
      "Cell \u001b[1;32mIn[2], line 10\u001b[0m\n\u001b[0;32m      7\u001b[0m \u001b[39mfor\u001b[39;00m lines \u001b[39min\u001b[39;00m f:\n\u001b[0;32m      8\u001b[0m     movie \u001b[39m=\u001b[39m lines\n\u001b[1;32m---> 10\u001b[0m average_rating \u001b[39m=\u001b[39m (\u001b[39msum\u001b[39;49m(rate) \u001b[39m/\u001b[39;49m \u001b[39mlen\u001b[39;49m(rate))\n\u001b[0;32m     11\u001b[0m \u001b[39mprint\u001b[39m(average_rating)\n",
      "\u001b[1;31mZeroDivisionError\u001b[0m: division by zero"
     ]
    }
   ],
   "source": [
    "import json\n",
    "\n",
    "actor = 'Hugh Jackman'\n",
    "rate = []\n",
    "with open('C:/Users/Cole/OneDrive/Desktop/INST-414/imdb_movies_1985to2022.json', 'r') as f: # reads the file that was input\n",
    "    \n",
    "    for lines in f:\n",
    "        movie = lines\n",
    "          \n",
    "    average_rating = (sum(rate) / len(rate))\n",
    "    print(average_rating)"
   ]
  },
  {
   "cell_type": "code",
   "execution_count": null,
   "id": "f1984072",
   "metadata": {},
   "outputs": [],
   "source": []
  },
  {
   "cell_type": "code",
   "execution_count": null,
   "id": "d0cb576c",
   "metadata": {},
   "outputs": [],
   "source": []
  }
 ],
 "metadata": {
  "kernelspec": {
   "display_name": "Python 3",
   "language": "python",
   "name": "python3"
  },
  "language_info": {
   "codemirror_mode": {
    "name": "ipython",
    "version": 3
   },
   "file_extension": ".py",
   "mimetype": "text/x-python",
   "name": "python",
   "nbconvert_exporter": "python",
   "pygments_lexer": "ipython3",
   "version": "3.10.9"
  },
  "vscode": {
   "interpreter": {
    "hash": "7e1f3683dc06b63936dcd5d8f5c711904bea7c3dda3fc3105d383118c7c366a9"
   }
  }
 },
 "nbformat": 4,
 "nbformat_minor": 5
}
